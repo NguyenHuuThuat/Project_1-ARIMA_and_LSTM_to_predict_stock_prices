{
  "nbformat": 4,
  "nbformat_minor": 0,
  "metadata": {
    "colab": {
      "name": "LTST.ipynb",
      "provenance": [],
      "collapsed_sections": []
    },
    "kernelspec": {
      "name": "python3",
      "display_name": "Python 3"
    },
    "language_info": {
      "name": "python"
    }
  },
  "cells": [
    {
      "cell_type": "markdown",
      "metadata": {
        "id": "zPTSl4T7WtNy"
      },
      "source": [
        "Khai báo thư viện"
      ]
    },
    {
      "cell_type": "code",
      "metadata": {
        "id": "FpQpZgkjTg0F"
      },
      "source": [
        "import numpy as np\n",
        "import matplotlib.pyplot as plt\n",
        "import pandas as pd\n",
        "import os.path\n",
        "from os import path\n",
        "from keras.models import Sequential\n",
        "from keras.layers import Dense\n",
        "from keras.layers import LSTM\n",
        "from keras.layers import Dropout"
      ],
      "execution_count": 1,
      "outputs": []
    },
    {
      "cell_type": "markdown",
      "metadata": {
        "id": "wwKvFxdIW2S4"
      },
      "source": [
        "Input dữ liệu"
      ]
    },
    {
      "cell_type": "code",
      "metadata": {
        "colab": {
          "base_uri": "https://localhost:8080/",
          "height": 447
        },
        "id": "qD5FAbotZez1",
        "outputId": "8a3f1b60-3873-4423-a674-d7c11a71aa8f"
      },
      "source": [
        "stock_prices_1 = pd.read_csv(\"VCB_Stock_Price.csv\")\n",
        "stock_prices = stock_prices_1[['Date', 'Close']]\n",
        "stock_prices = stock_prices.set_index(\"Date\")\n",
        "stock_prices"
      ],
      "execution_count": 2,
      "outputs": [
        {
          "output_type": "execute_result",
          "data": {
            "text/html": [
              "<div>\n",
              "<style scoped>\n",
              "    .dataframe tbody tr th:only-of-type {\n",
              "        vertical-align: middle;\n",
              "    }\n",
              "\n",
              "    .dataframe tbody tr th {\n",
              "        vertical-align: top;\n",
              "    }\n",
              "\n",
              "    .dataframe thead th {\n",
              "        text-align: right;\n",
              "    }\n",
              "</style>\n",
              "<table border=\"1\" class=\"dataframe\">\n",
              "  <thead>\n",
              "    <tr style=\"text-align: right;\">\n",
              "      <th></th>\n",
              "      <th>Close</th>\n",
              "    </tr>\n",
              "    <tr>\n",
              "      <th>Date</th>\n",
              "      <th></th>\n",
              "    </tr>\n",
              "  </thead>\n",
              "  <tbody>\n",
              "    <tr>\n",
              "      <th>01/02/2018</th>\n",
              "      <td>53388</td>\n",
              "    </tr>\n",
              "    <tr>\n",
              "      <th>01/03/2018</th>\n",
              "      <td>53291</td>\n",
              "    </tr>\n",
              "    <tr>\n",
              "      <th>01/04/2018</th>\n",
              "      <td>53776</td>\n",
              "    </tr>\n",
              "    <tr>\n",
              "      <th>01/05/2018</th>\n",
              "      <td>52417</td>\n",
              "    </tr>\n",
              "    <tr>\n",
              "      <th>01/08/2018</th>\n",
              "      <td>53776</td>\n",
              "    </tr>\n",
              "    <tr>\n",
              "      <th>...</th>\n",
              "      <td>...</td>\n",
              "    </tr>\n",
              "    <tr>\n",
              "      <th>04/20/2021</th>\n",
              "      <td>103000</td>\n",
              "    </tr>\n",
              "    <tr>\n",
              "      <th>04/22/2021</th>\n",
              "      <td>103000</td>\n",
              "    </tr>\n",
              "    <tr>\n",
              "      <th>04/23/2021</th>\n",
              "      <td>104000</td>\n",
              "    </tr>\n",
              "    <tr>\n",
              "      <th>04/26/2021</th>\n",
              "      <td>98600</td>\n",
              "    </tr>\n",
              "    <tr>\n",
              "      <th>04/27/2021</th>\n",
              "      <td>99000</td>\n",
              "    </tr>\n",
              "  </tbody>\n",
              "</table>\n",
              "<p>818 rows × 1 columns</p>\n",
              "</div>"
            ],
            "text/plain": [
              "             Close\n",
              "Date              \n",
              "01/02/2018   53388\n",
              "01/03/2018   53291\n",
              "01/04/2018   53776\n",
              "01/05/2018   52417\n",
              "01/08/2018   53776\n",
              "...            ...\n",
              "04/20/2021  103000\n",
              "04/22/2021  103000\n",
              "04/23/2021  104000\n",
              "04/26/2021   98600\n",
              "04/27/2021   99000\n",
              "\n",
              "[818 rows x 1 columns]"
            ]
          },
          "metadata": {
            "tags": []
          },
          "execution_count": 2
        }
      ]
    },
    {
      "cell_type": "markdown",
      "metadata": {
        "id": "y2i_rlZqZ0Er"
      },
      "source": [
        "Chia tập train, test"
      ]
    },
    {
      "cell_type": "code",
      "metadata": {
        "colab": {
          "base_uri": "https://localhost:8080/",
          "height": 0
        },
        "id": "JgW0l221ZtlU",
        "outputId": "9712fb7a-39dd-48fd-9886-b2996b04a699"
      },
      "source": [
        "train=stock_prices.iloc[:600]\n",
        "test=stock_prices.iloc[600:]\n",
        "print(\"Kích thước tập ban đầu là: \",stock_prices.shape)\n",
        "print(\"Kích thước tập huấn luyện là: \",train.shape)\n",
        "print(\"Kích thước tập thử nghiệm là: \",test.shape)"
      ],
      "execution_count": 3,
      "outputs": [
        {
          "output_type": "stream",
          "text": [
            "Kích thước tập ban đầu là:  (818, 1)\n",
            "Kích thước tập huấn luyện là:  (600, 1)\n",
            "Kích thước tập thử nghiệm là:  (218, 1)\n"
          ],
          "name": "stdout"
        }
      ]
    },
    {
      "cell_type": "markdown",
      "metadata": {
        "id": "wCqcIqzTY79u"
      },
      "source": [
        "Chuẩn hóa dữ liệu"
      ]
    },
    {
      "cell_type": "code",
      "metadata": {
        "id": "rKyhYAEDT_9k"
      },
      "source": [
        "from sklearn.preprocessing import MinMaxScaler\n",
        "sc = MinMaxScaler(feature_range = (0, 1))\n",
        "train_scaler = sc.fit_transform(train)\n",
        "test_scaler = sc.fit_transform(test)"
      ],
      "execution_count": 4,
      "outputs": []
    },
    {
      "cell_type": "code",
      "metadata": {
        "id": "OIcs5TUpUDgZ"
      },
      "source": [
        "x_train = []\n",
        "y_train = []\n",
        "len_train = len(train)\n"
      ],
      "execution_count": 5,
      "outputs": []
    },
    {
      "cell_type": "code",
      "metadata": {
        "id": "4fWk2PjqUF6N"
      },
      "source": [
        "for i in range(60, len_train):\n",
        "    x_train.append(train_scaler[i-60:i, 0])\n",
        "    y_train.append(train_scaler[i, 0])\n",
        "\n",
        "x_train, y_train = np.array(x_train), np.array(y_train)\n",
        "\n",
        "x_train = np.reshape(x_train, (x_train.shape[0], x_train.shape[1], 1))"
      ],
      "execution_count": 6,
      "outputs": []
    },
    {
      "cell_type": "markdown",
      "metadata": {
        "id": "ppIjNJDAe_vG"
      },
      "source": [
        "Xây dựng mô hình"
      ]
    },
    {
      "cell_type": "code",
      "metadata": {
        "id": "puK7_QrSUITw"
      },
      "source": [
        "\n",
        "regressor = Sequential()\n",
        "regressor.add(LSTM(units = 50, return_sequences = True, input_shape = (x_train.shape[1], 1)))\n",
        "regressor.add(Dropout(0.2))\n",
        "\n",
        "regressor.add(LSTM(units = 50, return_sequences = True))\n",
        "regressor.add(Dropout(0.2))\n",
        "\n",
        "regressor.add(LSTM(units = 50, return_sequences = True))\n",
        "regressor.add(Dropout(0.2))\n",
        "\n",
        "regressor.add(LSTM(units = 50))\n",
        "regressor.add(Dropout(0.2))\n",
        "regressor.add(Dense(units = 1))\n",
        "regressor.compile(optimizer = 'adam', loss = 'mean_squared_error')"
      ],
      "execution_count": 7,
      "outputs": []
    },
    {
      "cell_type": "markdown",
      "metadata": {
        "id": "QBdo9Pn2hEZQ"
      },
      "source": [
        "Huấn luyện mô hình"
      ]
    },
    {
      "cell_type": "code",
      "metadata": {
        "id": "nNo7Ud5tUK56"
      },
      "source": [
        "if path.exists(\"mymodel.h5\"):\n",
        "    regressor.load_weights(\"mymodel.h5\")\n",
        "else:\n",
        "    # Con khong thi train\n",
        "    regressor.fit(x_train, y_train, epochs = 100, batch_size = 32)\n",
        "    regressor.save(\"mymodel.h5\")"
      ],
      "execution_count": 8,
      "outputs": []
    },
    {
      "cell_type": "markdown",
      "metadata": {
        "id": "-d4o8SINwHjd"
      },
      "source": [
        "Dự báo"
      ]
    },
    {
      "cell_type": "code",
      "metadata": {
        "id": "fFi-fdVvgiIM"
      },
      "source": [
        "inputs = stock_prices[len(stock_prices) - len(test) - 60:].values\n",
        "inputs = inputs.reshape(-1,1)\n",
        "inputs = sc.transform(inputs)"
      ],
      "execution_count": 9,
      "outputs": []
    },
    {
      "cell_type": "code",
      "metadata": {
        "id": "MlgJQGkloHWk"
      },
      "source": [
        "x_test = []\n",
        "len_input = len(inputs)"
      ],
      "execution_count": 10,
      "outputs": []
    },
    {
      "cell_type": "code",
      "metadata": {
        "id": "8D5ey54VvB5p"
      },
      "source": [
        "for i in range(60, len_input):\n",
        "    x_test.append(inputs[i-60:i, 0])"
      ],
      "execution_count": 11,
      "outputs": []
    },
    {
      "cell_type": "code",
      "metadata": {
        "id": "o4UjcQFjvLFy"
      },
      "source": [
        "x_test = np.array(x_test)\n",
        "x_test = np.reshape(x_test, (x_test.shape[0], x_test.shape[1], 1))\n",
        "predicted_stock_price = regressor.predict(x_test)\n",
        "predicted_stock_price = sc.inverse_transform(predicted_stock_price)"
      ],
      "execution_count": 12,
      "outputs": []
    },
    {
      "cell_type": "code",
      "metadata": {
        "colab": {
          "base_uri": "https://localhost:8080/",
          "height": 295
        },
        "id": "f-2EK51YvUFE",
        "outputId": "7229b89e-4cad-40c2-e6b4-37db4f73c276"
      },
      "source": [
        "plt.plot(test['Close'], color = 'red', label = 'Real VCB Stock Price')\n",
        "plt.plot(predicted_stock_price, color = 'blue', label = 'Predicted VCB Stock Price')\n",
        "plt.title('VCB Stock Price Prediction')\n",
        "plt.xlabel('Time')\n",
        "plt.ylabel('VCB Stock Price')\n",
        "plt.legend()\n",
        "plt.show()"
      ],
      "execution_count": 13,
      "outputs": [
        {
          "output_type": "display_data",
          "data": {
            "image/png": "[encoded data removed]",
            "text/plain": [
              "<Figure size 432x288 with 1 Axes>"
            ]
          },
          "metadata": {
            "tags": [],
            "needs_background": "light"
          }
        }
      ]
    },
    {
      "cell_type": "code",
      "metadata": {
        "id": "6W7pCUjovUXp"
      },
      "source": [
        ""
      ],
      "execution_count": 13,
      "outputs": []
    }
  ]
}